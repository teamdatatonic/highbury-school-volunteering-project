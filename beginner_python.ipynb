{
 "cells": [
  {
   "attachments": {},
   "cell_type": "markdown",
   "metadata": {},
   "source": [
    "# Introduction to Python"
   ]
  },
  {
   "attachments": {},
   "cell_type": "markdown",
   "metadata": {},
   "source": [
    "## Getting started"
   ]
  },
  {
   "attachments": {},
   "cell_type": "markdown",
   "metadata": {},
   "source": [
    "### printing\n",
    "printing is very useful when coding. It allows you to output values that you are working with so that you can see what the computer is doing! If your result isnt what you expect, printing more information will help you to debug and find where the error in your code is"
   ]
  },
  {
   "cell_type": "code",
   "execution_count": null,
   "metadata": {},
   "outputs": [],
   "source": [
    "# You can print text like below\n",
    "print(\"Hello world!\")"
   ]
  },
  {
   "attachments": {},
   "cell_type": "markdown",
   "metadata": {},
   "source": [
    "TASK: Write code that will print the phrase \"I love writing Python!\""
   ]
  },
  {
   "cell_type": "code",
   "execution_count": 12,
   "metadata": {},
   "outputs": [],
   "source": [
    "#Write task solution in this box and run it by clicking the play button on the left <--\n",
    "\n"
   ]
  },
  {
   "cell_type": "code",
   "execution_count": null,
   "metadata": {},
   "outputs": [],
   "source": [
    "# If you have a variable, you can print that out as well to see what value it currently holds\n",
    "x = 8\n",
    "print(x)"
   ]
  },
  {
   "cell_type": "code",
   "execution_count": 9,
   "metadata": {},
   "outputs": [
    {
     "name": "stdout",
     "output_type": "stream",
     "text": [
      "I am 100 years old!\n"
     ]
    }
   ],
   "source": [
    "# You can print text alongside variables with .format\n",
    "x = 100\n",
    "print(\"I am {} years old!\".format(x))"
   ]
  },
  {
   "cell_type": "code",
   "execution_count": 13,
   "metadata": {},
   "outputs": [
    {
     "name": "stdout",
     "output_type": "stream",
     "text": [
      "Hello, I hear that you are 100 years old. I am only 50 years old!\n",
      "That means that you are 2.0 times older than me!\n"
     ]
    }
   ],
   "source": [
    "# Here are some other printing examples\n",
    "age1 = 100\n",
    "age2 = 50\n",
    "print(\"Hello, I hear that you are {} years old. I am only {} years old!\".format(age1, age2))\n",
    "\n",
    "print(\"That means that you are {} times older than me!\".format(age1/age2))"
   ]
  },
  {
   "attachments": {},
   "cell_type": "markdown",
   "metadata": {},
   "source": [
    "TASK: Write some code that will print the phrase \"Hello, my name is ```[your name]``` and I am ```[your age]``` years old\". \n",
    "\n",
    "Replace the ```[your name]``` and ```[you age]``` with your name and age"
   ]
  },
  {
   "cell_type": "code",
   "execution_count": null,
   "metadata": {},
   "outputs": [],
   "source": [
    "# Write your solution to the task in this box\n",
    "\n"
   ]
  },
  {
   "attachments": {},
   "cell_type": "markdown",
   "metadata": {},
   "source": [
    "Symbols"
   ]
  },
  {
   "cell_type": "code",
   "execution_count": 20,
   "metadata": {},
   "outputs": [
    {
     "name": "stdout",
     "output_type": "stream",
     "text": [
      "False\n",
      "True\n",
      "False\n"
     ]
    }
   ],
   "source": [
    "print(1==2)\n",
    "print(1==1)\n",
    "print(1=='hello')"
   ]
  },
  {
   "cell_type": "code",
   "execution_count": 17,
   "metadata": {},
   "outputs": [
    {
     "data": {
      "text/plain": [
       "True"
      ]
     },
     "execution_count": 17,
     "metadata": {},
     "output_type": "execute_result"
    }
   ],
   "source": [
    "1!=2"
   ]
  },
  {
   "attachments": {},
   "cell_type": "markdown",
   "metadata": {},
   "source": [
    "### for loops"
   ]
  },
  {
   "cell_type": "code",
   "execution_count": 7,
   "metadata": {},
   "outputs": [
    {
     "name": "stdout",
     "output_type": "stream",
     "text": [
      "0\n",
      "1\n",
      "2\n",
      "3\n",
      "4\n",
      "5\n",
      "6\n",
      "7\n",
      "8\n",
      "9\n"
     ]
    }
   ],
   "source": [
    "for i in range(0,10):\n",
    "    print(i)"
   ]
  },
  {
   "cell_type": "code",
   "execution_count": 14,
   "metadata": {},
   "outputs": [
    {
     "name": "stdout",
     "output_type": "stream",
     "text": [
      "the values are not equal!\n"
     ]
    }
   ],
   "source": [
    "x = 0\n",
    "y = 4\n",
    "if x == y:\n",
    "    print(\"the values are equal!\")\n",
    "else:\n",
    "    print(\"the values are not equal!\")"
   ]
  },
  {
   "cell_type": "code",
   "execution_count": 15,
   "metadata": {},
   "outputs": [
    {
     "name": "stdout",
     "output_type": "stream",
     "text": [
      "the values are not equal!\n",
      "the values are not equal!\n",
      "the values are not equal!\n",
      "the values are not equal!\n",
      "the values are equal!\n"
     ]
    }
   ],
   "source": [
    "x = 0\n",
    "y = 4\n",
    "for i in range(0,5):\n",
    "    x = i\n",
    "    if x == y:\n",
    "        print(\"the values are equal!\")\n",
    "    else:\n",
    "        print(\"the values are not equal!\")"
   ]
  },
  {
   "attachments": {},
   "cell_type": "markdown",
   "metadata": {},
   "source": [
    "## Some extra functions that may be helpful"
   ]
  },
  {
   "attachments": {},
   "cell_type": "markdown",
   "metadata": {},
   "source": [
    "### min(a, b)\n",
    "This function outputs the minimum value between the given numbers ```a``` and ```b```\n",
    "\n",
    "Look at the examples below!"
   ]
  },
  {
   "cell_type": "code",
   "execution_count": 1,
   "metadata": {},
   "outputs": [
    {
     "name": "stdout",
     "output_type": "stream",
     "text": [
      "4\n"
     ]
    }
   ],
   "source": [
    "x = min(4, 100)\n",
    "print(x)\n",
    "# This will output 4 as 4 is smaller than 100"
   ]
  },
  {
   "cell_type": "code",
   "execution_count": 2,
   "metadata": {},
   "outputs": [
    {
     "name": "stdout",
     "output_type": "stream",
     "text": [
      "-80\n"
     ]
    }
   ],
   "source": [
    "print(min(-10, 20-100))\n",
    "#This will output -80 because 20-100=-80, which is smaller than -10"
   ]
  },
  {
   "cell_type": "code",
   "execution_count": 3,
   "metadata": {},
   "outputs": [
    {
     "name": "stdout",
     "output_type": "stream",
     "text": [
      "7\n"
     ]
    }
   ],
   "source": [
    "y = 7\n",
    "x = min(y, 54)\n",
    "print(x)\n",
    "# This is outputting the minimum between 7 and 54, which is 7"
   ]
  },
  {
   "attachments": {},
   "cell_type": "markdown",
   "metadata": {},
   "source": [
    "### max(a, b)\n",
    "Similar to min, this function outputs the maximum value between the given numbers ```a``` and ```b```\n",
    "\n",
    "Look at the examples below!"
   ]
  },
  {
   "cell_type": "code",
   "execution_count": 4,
   "metadata": {},
   "outputs": [
    {
     "name": "stdout",
     "output_type": "stream",
     "text": [
      "100\n"
     ]
    }
   ],
   "source": [
    "x = max(4, 100)\n",
    "print(x)\n",
    "# This will output 100 as 100 is bigger than 100"
   ]
  },
  {
   "cell_type": "code",
   "execution_count": 5,
   "metadata": {},
   "outputs": [
    {
     "name": "stdout",
     "output_type": "stream",
     "text": [
      "-10\n"
     ]
    }
   ],
   "source": [
    "print(max(-10, 20-100))\n",
    "#This will output -10 because -10 is bigger than -80"
   ]
  },
  {
   "cell_type": "code",
   "execution_count": 6,
   "metadata": {},
   "outputs": [
    {
     "name": "stdout",
     "output_type": "stream",
     "text": [
      "54\n"
     ]
    }
   ],
   "source": [
    "y = 7\n",
    "x = max(y, 54)\n",
    "print(x)\n",
    "# This is outputting the maximum between 7 and 54, which is 54"
   ]
  }
 ],
 "metadata": {
  "kernelspec": {
   "display_name": "Python 3",
   "language": "python",
   "name": "python3"
  },
  "language_info": {
   "codemirror_mode": {
    "name": "ipython",
    "version": 3
   },
   "file_extension": ".py",
   "mimetype": "text/x-python",
   "name": "python",
   "nbconvert_exporter": "python",
   "pygments_lexer": "ipython3",
   "version": "3.9.6"
  },
  "orig_nbformat": 4,
  "vscode": {
   "interpreter": {
    "hash": "3f78ab3234abf5ffe85cc1c54791e44a2081a7b156d96e149b55dab840cdb089"
   }
  }
 },
 "nbformat": 4,
 "nbformat_minor": 2
}
