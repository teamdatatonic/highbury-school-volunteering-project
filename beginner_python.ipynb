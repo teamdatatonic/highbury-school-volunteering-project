{
 "cells": [
  {
   "attachments": {},
   "cell_type": "markdown",
   "metadata": {},
   "source": [
    "# Introduction to Python"
   ]
  },
  {
   "attachments": {},
   "cell_type": "markdown",
   "metadata": {},
   "source": [
    "## Getting started"
   ]
  },
  {
   "attachments": {},
   "cell_type": "markdown",
   "metadata": {},
   "source": [
    "### printing\n",
    "printing is very useful when coding. It allows you to output values that you are working with so that you can see what the computer is doing! If your result isnt what you expect, printing more information will help you to debug and find where the error in your code is"
   ]
  },
  {
   "cell_type": "code",
   "execution_count": null,
   "metadata": {},
   "outputs": [],
   "source": [
    "# You can print text like below\n",
    "print(\"Hello world!\")"
   ]
  },
  {
   "attachments": {},
   "cell_type": "markdown",
   "metadata": {},
   "source": [
    "TASK: Write code that will print the phrase \"I love writing Python!\""
   ]
  },
  {
   "cell_type": "code",
   "execution_count": null,
   "metadata": {},
   "outputs": [],
   "source": [
    "#Write task solution in this box and run it by clicking the play button on the left <--\n",
    "\n"
   ]
  },
  {
   "cell_type": "code",
   "execution_count": null,
   "metadata": {},
   "outputs": [],
   "source": [
    "# If you have a variable, you can print that out as well to see what value it currently holds\n",
    "x = 8\n",
    "print(x)"
   ]
  },
  {
   "cell_type": "code",
   "execution_count": null,
   "metadata": {},
   "outputs": [],
   "source": [
    "# You can print variables after text by seperating them with a comma\n",
    "x = 7\n",
    "print(\"Number of continents in the world: \", )"
   ]
  },
  {
   "attachments": {},
   "cell_type": "markdown",
   "metadata": {},
   "source": [
    "Symbols\n",
    "- what is ==, what is !="
   ]
  },
  {
   "cell_type": "code",
   "execution_count": null,
   "metadata": {},
   "outputs": [],
   "source": [
    "print(1==2)\n",
    "print(1==1)\n",
    "print(1=='hello')"
   ]
  },
  {
   "cell_type": "code",
   "execution_count": null,
   "metadata": {},
   "outputs": [],
   "source": [
    "1!=2"
   ]
  },
  {
   "attachments": {},
   "cell_type": "markdown",
   "metadata": {},
   "source": [
    "### for loops"
   ]
  },
  {
   "cell_type": "code",
   "execution_count": null,
   "metadata": {},
   "outputs": [],
   "source": [
    "for i in range(0,10):\n",
    "    print(i)"
   ]
  },
  {
   "cell_type": "code",
   "execution_count": null,
   "metadata": {},
   "outputs": [],
   "source": [
    "x = 0\n",
    "y = 4\n",
    "if x == y:\n",
    "    print(\"the values are equal!\")\n",
    "else:\n",
    "    print(\"the values are not equal!\")"
   ]
  },
  {
   "cell_type": "code",
   "execution_count": null,
   "metadata": {},
   "outputs": [],
   "source": [
    "x = 0\n",
    "y = 4\n",
    "for i in range(0,5):\n",
    "    x = i\n",
    "    if x == y:\n",
    "        print(\"the values are equal!\")\n",
    "    else:\n",
    "        print(\"the values are not equal!\")"
   ]
  },
  {
   "attachments": {},
   "cell_type": "markdown",
   "metadata": {},
   "source": [
    "## Some extra functions that may be helpful"
   ]
  },
  {
   "attachments": {},
   "cell_type": "markdown",
   "metadata": {},
   "source": [
    "### min(a, b)\n",
    "This function outputs the minimum value between the given numbers ```a``` and ```b```\n",
    "\n",
    "Look at the examples below!"
   ]
  },
  {
   "cell_type": "code",
   "execution_count": null,
   "metadata": {},
   "outputs": [],
   "source": [
    "x = min(4, 100)\n",
    "print(x)\n",
    "# This will output 4 as 4 is smaller than 100"
   ]
  },
  {
   "cell_type": "code",
   "execution_count": null,
   "metadata": {},
   "outputs": [],
   "source": [
    "print(min(-10, 20-100))\n",
    "#This will output -80 because 20-100=-80, which is smaller than -10"
   ]
  },
  {
   "cell_type": "code",
   "execution_count": null,
   "metadata": {},
   "outputs": [],
   "source": [
    "y = 7\n",
    "x = min(y, 54)\n",
    "print(x)\n",
    "# This is outputting the minimum between 7 and 54, which is 7"
   ]
  },
  {
   "attachments": {},
   "cell_type": "markdown",
   "metadata": {},
   "source": [
    "### max(a, b)\n",
    "Similar to min, this function outputs the maximum value between the given numbers ```a``` and ```b```\n",
    "\n",
    "Look at the examples below!"
   ]
  },
  {
   "cell_type": "code",
   "execution_count": null,
   "metadata": {},
   "outputs": [],
   "source": [
    "x = max(4, 100)\n",
    "print(x)\n",
    "# This will output 100 as 100 is bigger than 100"
   ]
  },
  {
   "cell_type": "code",
   "execution_count": null,
   "metadata": {},
   "outputs": [],
   "source": [
    "print(max(-10, 20-100))\n",
    "#This will output -10 because -10 is bigger than -80"
   ]
  },
  {
   "cell_type": "code",
   "execution_count": null,
   "metadata": {},
   "outputs": [],
   "source": [
    "y = 7\n",
    "x = max(y, 54)\n",
    "print(x)\n",
    "# This is outputting the maximum between 7 and 54, which is 54"
   ]
  }
 ],
 "metadata": {
  "kernelspec": {
   "display_name": "Python 3",
   "language": "python",
   "name": "python3"
  },
  "language_info": {
   "codemirror_mode": {
    "name": "ipython",
    "version": 3
   },
   "file_extension": ".py",
   "mimetype": "text/x-python",
   "name": "python",
   "nbconvert_exporter": "python",
   "pygments_lexer": "ipython3",
   "version": "3.9.6"
  },
  "orig_nbformat": 4,
  "vscode": {
   "interpreter": {
    "hash": "3f78ab3234abf5ffe85cc1c54791e44a2081a7b156d96e149b55dab840cdb089"
   }
  }
 },
 "nbformat": 4,
 "nbformat_minor": 2
}
