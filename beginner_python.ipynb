{
 "cells": [
  {
   "attachments": {},
   "cell_type": "markdown",
   "metadata": {},
   "source": [
    "# Introduction to Python"
   ]
  },
  {
   "attachments": {},
   "cell_type": "markdown",
   "metadata": {},
   "source": [
    "## Getting started"
   ]
  },
  {
   "attachments": {},
   "cell_type": "markdown",
   "metadata": {},
   "source": [
    "### printing\n",
    "printing is very useful when coding. It allows you to output values that you are working with so that you can see what the computer is doing! If your result isnt what you expect, printing more information will help you to debug and find where the error in your code is"
   ]
  },
  {
   "cell_type": "code",
   "execution_count": null,
   "metadata": {},
   "outputs": [],
   "source": [
    "# You can print text like below\n",
    "print(\"Hello world!\")"
   ]
  },
  {
   "attachments": {},
   "cell_type": "markdown",
   "metadata": {},
   "source": [
    "**TASK:** Write code that will print the phrase \"I love writing Python!\""
   ]
  },
  {
   "cell_type": "code",
   "execution_count": null,
   "metadata": {},
   "outputs": [],
   "source": [
    "#Write task solution in this box and run it by clicking the play button on the left \n",
    "\n"
   ]
  },
  {
   "cell_type": "code",
   "execution_count": null,
   "metadata": {},
   "outputs": [],
   "source": [
    "# If you have a variable, you can print that out as well to see what value it currently holds\n",
    "x = 8\n",
    "print(x)"
   ]
  },
  {
   "cell_type": "code",
   "execution_count": null,
   "metadata": {},
   "outputs": [],
   "source": [
    "# You can print variables after text by seperating them with a comma\n",
    "x = 7\n",
    "print(\"Number of continents in the world: \", x)"
   ]
  },
  {
   "attachments": {},
   "cell_type": "markdown",
   "metadata": {},
   "source": [
    "### Symbols"
   ]
  },
  {
   "attachments": {},
   "cell_type": "markdown",
   "metadata": {},
   "source": [
    "- `==` is used when comparing if two things are exactly the same. It will output `True` or `False` depending on the result. I.e, if we set `x=2` (notice the signle = for setting a variable value), then `x==2` gives `True`. Whereas, `x==100` gives us `False`.\n",
    "\n",
    "- `!=` is similar the the above except it checks that two things are **not** the same. So if we set `y=5`. Then `y!=5` gives us `False` and `y!=1000` gives `True`.\n",
    "\n",
    "- `>=` checks whether the left value is higher than (or equal to) the right one. So if `a = 100`, then `a>=3` returns `True` and `a>=100000` returns `False`.\n",
    "\n",
    "- `<=` this checks whether the left is lower (or equal to) the right hand side. If `a = 100`, then `a<=3` returns `False` and `a>=100000` returns `True`."
   ]
  },
  {
   "cell_type": "code",
   "execution_count": null,
   "metadata": {},
   "outputs": [],
   "source": [
    "print(1==2)\n",
    "print(1==1)"
   ]
  },
  {
   "cell_type": "code",
   "execution_count": null,
   "metadata": {},
   "outputs": [],
   "source": [
    "print(1!=100)\n",
    "print(1<=50)"
   ]
  },
  {
   "cell_type": "code",
   "execution_count": null,
   "metadata": {},
   "outputs": [],
   "source": [
    "x = 90\n",
    "print(x>=4)\n",
    "print(x==4)\n",
    "\n",
    "y = 10\n",
    "print(x>=y)"
   ]
  },
  {
   "attachments": {},
   "cell_type": "markdown",
   "metadata": {},
   "source": [
    "### If statements\n",
    "\n",
    "you can use the symbols we showed above in **if statements**. These will run different bits of code depending on whether your condition is `True` or `False`.\n"
   ]
  },
  {
   "attachments": {},
   "cell_type": "markdown",
   "metadata": {},
   "source": [
    "To write an if statement, you need a condition. This will be very similar to the lines we used when testing the symbols. You can also include multiple conditions with an `elif` term (this is just shortened from *else if*). Finally, all if statements need an `else` case for when the condition isnt satisfies.\n",
    "\n",
    "Note that you can have as many `elif`s as you want. Or you can have none!\n",
    "\n",
    "Here is the general format to an if statement:\n",
    "```\n",
    "if [condition]:\n",
    "    # write some code to run if the condition above outputs True\n",
    "elif [a different condition]: \n",
    "    # Code that occurs if the first condition is False but the second it True\n",
    "else:\n",
    "    # Code that will run if all conditions fail\n",
    "```"
   ]
  },
  {
   "attachments": {},
   "cell_type": "markdown",
   "metadata": {},
   "source": [
    "Try changing the values of `x` and `y` in the code below and experiment with if statements"
   ]
  },
  {
   "cell_type": "code",
   "execution_count": null,
   "metadata": {},
   "outputs": [],
   "source": [
    "x = 0\n",
    "y = 4\n",
    "if x == y:\n",
    "    print(\"the values are equal!\")\n",
    "else:\n",
    "    print(\"the values are not equal!\")"
   ]
  },
  {
   "cell_type": "code",
   "execution_count": null,
   "metadata": {},
   "outputs": [],
   "source": [
    "x = 0\n",
    "y = 4\n",
    "if x >= y:\n",
    "    print(\"x is bigger than y!\")\n",
    "elif x==y:\n",
    "    print(\"x is equal to y!\")\n",
    "else:\n",
    "    print(\"y is bigger than x!\")"
   ]
  },
  {
   "attachments": {},
   "cell_type": "markdown",
   "metadata": {},
   "source": [
    "## Some extra functions that may be helpful (or not!)"
   ]
  },
  {
   "attachments": {},
   "cell_type": "markdown",
   "metadata": {},
   "source": [
    "### `min(a, b)`\n",
    "This function outputs the minimum value between the given numbers ```a``` and ```b```\n",
    "\n",
    "Look at the examples below!"
   ]
  },
  {
   "cell_type": "code",
   "execution_count": null,
   "metadata": {},
   "outputs": [],
   "source": [
    "x = min(4, 100)\n",
    "print(x)\n",
    "# This will output 4 as 4 is smaller than 100"
   ]
  },
  {
   "cell_type": "code",
   "execution_count": null,
   "metadata": {},
   "outputs": [],
   "source": [
    "print(min(-10, 20-100))\n",
    "#This will output -80 because 20-100=-80, which is smaller than -10"
   ]
  },
  {
   "cell_type": "code",
   "execution_count": null,
   "metadata": {},
   "outputs": [],
   "source": [
    "y = 7\n",
    "x = min(y, 54)\n",
    "print(x)\n",
    "# This is outputting the minimum between 7 and 54, which is 7"
   ]
  },
  {
   "attachments": {},
   "cell_type": "markdown",
   "metadata": {},
   "source": [
    "### `max(a, b)`\n",
    "Similar to min, this function outputs the maximum value between the given numbers ```a``` and ```b```\n",
    "\n",
    "Look at the examples below!"
   ]
  },
  {
   "cell_type": "code",
   "execution_count": null,
   "metadata": {},
   "outputs": [],
   "source": [
    "x = max(4, 100)\n",
    "print(x)\n",
    "# This will output 100 as 100 is bigger than 100"
   ]
  },
  {
   "cell_type": "code",
   "execution_count": null,
   "metadata": {},
   "outputs": [],
   "source": [
    "print(max(-10, 20-100))\n",
    "#This will output -10 because -10 is bigger than -80"
   ]
  },
  {
   "cell_type": "code",
   "execution_count": null,
   "metadata": {},
   "outputs": [],
   "source": [
    "y = 7\n",
    "x = max(y, 54)\n",
    "print(x)\n",
    "# This is outputting the maximum between 7 and 54, which is 54"
   ]
  }
 ],
 "metadata": {
  "kernelspec": {
   "display_name": "Python 3",
   "language": "python",
   "name": "python3"
  },
  "language_info": {
   "codemirror_mode": {
    "name": "ipython",
    "version": 3
   },
   "file_extension": ".py",
   "mimetype": "text/x-python",
   "name": "python",
   "nbconvert_exporter": "python",
   "pygments_lexer": "ipython3",
   "version": "3.9.6"
  },
  "orig_nbformat": 4,
  "vscode": {
   "interpreter": {
    "hash": "3f78ab3234abf5ffe85cc1c54791e44a2081a7b156d96e149b55dab840cdb089"
   }
  }
 },
 "nbformat": 4,
 "nbformat_minor": 2
}
